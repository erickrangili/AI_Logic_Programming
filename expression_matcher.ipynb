{
 "cells": [
  {
   "cell_type": "code",
   "execution_count": 1,
   "metadata": {},
   "outputs": [
    {
     "ename": "ModuleNotFoundError",
     "evalue": "No module named 'logpy'",
     "output_type": "error",
     "traceback": [
      "\u001b[1;31m---------------------------------------------------------------------------\u001b[0m",
      "\u001b[1;31mModuleNotFoundError\u001b[0m                       Traceback (most recent call last)",
      "\u001b[1;32m<ipython-input-1-60232b08b10a>\u001b[0m in \u001b[0;36m<module>\u001b[1;34m\u001b[0m\n\u001b[1;32m----> 1\u001b[1;33m \u001b[1;32mfrom\u001b[0m \u001b[0mlogpy\u001b[0m \u001b[1;32mimport\u001b[0m \u001b[0mrun\u001b[0m\u001b[1;33m,\u001b[0m \u001b[0mvar\u001b[0m\u001b[1;33m,\u001b[0m \u001b[0mfact\u001b[0m\u001b[1;33m\u001b[0m\u001b[1;33m\u001b[0m\u001b[0m\n\u001b[0m\u001b[0;32m      2\u001b[0m \u001b[1;32mimport\u001b[0m \u001b[0mlogpy\u001b[0m\u001b[1;33m.\u001b[0m\u001b[0massoccomm\u001b[0m \u001b[1;32mas\u001b[0m \u001b[0mla\u001b[0m\u001b[1;33m\u001b[0m\u001b[1;33m\u001b[0m\u001b[0m\n",
      "\u001b[1;31mModuleNotFoundError\u001b[0m: No module named 'logpy'"
     ]
    }
   ],
   "source": [
    "from logpy import run, var, fact\n",
    "import logpy.assoccomm as la\n",
    "\n",
    "# Define mathematical operations\n",
    "add = 'addition'\n",
    "mul = 'multiplication'\n",
    "\n",
    "# Declare that these operations are commutative\n",
    "# using the facts system\n",
    "fact(la.commutative, mul)\n",
    "fact(la.commutative, add)\n",
    "fact(la.associative, mul)\n",
    "fact(la.associative, add)\n",
    "\n",
    "# Define some variables\n",
    "a, b, c = var('a'), var('b'), var('c')\n",
    "\n",
    "# Consider the following expression:\n",
    "expression_orig = 3 x (-2) + (1 + 2 x 3) x (-1)\n",
    "\n",
    "# Let's generate this expression with masked variables. The first expression would be:\n",
    "expression1 = (1 + 2 x a) x b + 3 x c\n",
    "\n",
    "# The second expression would be:\n",
    "expression2 = c x 3 + b x (2 x a + 1)\n",
    "\n",
    "# third expression would be:\n",
    "expression3 = (((2 x a) x b) + b) + 3 x c\n",
    "\n",
    "# If you observe carefully, all three expressions represent the same basic expression. Our goal\n",
    "# is to match these expressions with the original expression to extract the unknown values:\n",
    "# Generate expressions\n",
    "expression_orig = (add, (mul, 3, -2), (mul, (add, 1, (mul, 2, 3)), -1))\n",
    "expression1 = (add, (mul, (add, 1, (mul, 2, a)), b), (mul, 3, c))\n",
    "expression2 = (add, (mul, c, 3), (mul, b, (add, (mul, 2, a), 1)))\n",
    "expression3 = (add, (add, (mul, (mul, 2, a), b), b), (mul, 3, c))\n",
    "\n",
    "# Compare expressions\n",
    "print(run(0, (a, b, c), la.eq_assoccomm(expression1, expression_orig)))\n",
    "print(run(0, (a, b, c), la.eq_assoccomm(expression2, expression_orig)))\n",
    "print(run(0, (a, b, c), la.eq_assoccomm(expression3, expression_orig)))"
   ]
  },
  {
   "cell_type": "code",
   "execution_count": null,
   "metadata": {},
   "outputs": [],
   "source": []
  }
 ],
 "metadata": {
  "kernelspec": {
   "display_name": "Python 3",
   "language": "python",
   "name": "python3"
  },
  "language_info": {
   "codemirror_mode": {
    "name": "ipython",
    "version": 3
   },
   "file_extension": ".py",
   "mimetype": "text/x-python",
   "name": "python",
   "nbconvert_exporter": "python",
   "pygments_lexer": "ipython3",
   "version": "3.7.4"
  }
 },
 "nbformat": 4,
 "nbformat_minor": 4
}
