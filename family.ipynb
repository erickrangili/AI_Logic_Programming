{
 "cells": [
  {
   "cell_type": "code",
   "execution_count": 1,
   "metadata": {},
   "outputs": [
    {
     "ename": "ModuleNotFoundError",
     "evalue": "No module named 'logpy'",
     "output_type": "error",
     "traceback": [
      "\u001b[1;31m---------------------------------------------------------------------------\u001b[0m",
      "\u001b[1;31mModuleNotFoundError\u001b[0m                       Traceback (most recent call last)",
      "\u001b[1;32m<ipython-input-1-fe29d1b1ee71>\u001b[0m in \u001b[0;36m<module>\u001b[1;34m\u001b[0m\n\u001b[0;32m      1\u001b[0m \u001b[1;32mimport\u001b[0m \u001b[0mjson\u001b[0m\u001b[1;33m\u001b[0m\u001b[1;33m\u001b[0m\u001b[0m\n\u001b[1;32m----> 2\u001b[1;33m \u001b[1;32mfrom\u001b[0m \u001b[0mlogpy\u001b[0m \u001b[1;32mimport\u001b[0m \u001b[0mRelation\u001b[0m\u001b[1;33m,\u001b[0m \u001b[0mfacts\u001b[0m\u001b[1;33m,\u001b[0m \u001b[0mrun\u001b[0m\u001b[1;33m,\u001b[0m \u001b[0mconde\u001b[0m\u001b[1;33m,\u001b[0m \u001b[0mvar\u001b[0m\u001b[1;33m,\u001b[0m \u001b[0meq\u001b[0m\u001b[1;33m\u001b[0m\u001b[1;33m\u001b[0m\u001b[0m\n\u001b[0m",
      "\u001b[1;31mModuleNotFoundError\u001b[0m: No module named 'logpy'"
     ]
    }
   ],
   "source": [
    "import json\n",
    "from logpy import Relation, facts, run, conde, var, eq\n",
    "\n",
    "\n",
    "# Check if 'x' is the parent of 'y'\n",
    "def parent(x, y):\n",
    "    return conde([father(x, y)], [mother(x, y)])\n",
    "\n",
    "\n",
    "# Check if 'x' is the grandparent of 'y'\n",
    "def grandparent(x, y):\n",
    "    temp = var()\n",
    "    return conde((parent(x, temp), parent(temp, y)))\n",
    "\n",
    "# Check for sibling relationship between 'a' and 'b'\n",
    "def sibling(x, y):\n",
    "    temp = var()\n",
    "    return conde((parent(temp, x), parent(temp, y)))\n",
    "\n",
    "# Check if x is y's uncle\n",
    "def uncle(x, y):\n",
    "    temp = var()\n",
    "    return conde((father(temp, x), grandparent(temp, y)))\n",
    "\n",
    "# Define the main function and initialize the relations father and mother:\n",
    "if __name__=='__main__':\n",
    "    father = Relation()\n",
    "    mother = Relation()\n",
    "    \n",
    "# Load the data from the relationships.json file:\n",
    "with open('relationships.json') as f:\n",
    "    d = json.loads(f.read())\n",
    "    \n",
    "# Read the data and add them to our fact base:\n",
    "for item in d['father']:\n",
    "    facts(father, (list(item.keys())[0], list(item.values())[0]))\n",
    "for item in d['mother']:\n",
    "    facts(mother, (list(item.keys())[0], list(item.values())[0]))\n",
    "    \n",
    "# Define the variable x:\n",
    "x = var()\n",
    "\n",
    "\n",
    "# We are now ready to ask some questions and see if our solver can come up with the right\n",
    "# answers. Let's ask who John's children are:\n",
    "# John's children\n",
    "name = 'John'\n",
    "output = run(0, x, father(name, x))\n",
    "print(\"\\nList of \" + name + \"'s children:\")\n",
    "for item in output:\n",
    "    print(item)\n",
    "    \n",
    "name = 'William'\n",
    "output = run(0, x, mother(x, name))[0]\n",
    "print(\"\\n\" + name + \"'s mother:\\n\" + output)\n",
    "\n",
    "name = 'Adam'\n",
    "output = run(0, x, parent(x, name))\n",
    "print(\"\\nList of \" + name + \"'s parents:\")\n",
    "for item in output:\n",
    "    print(item)\n",
    "\n",
    "# Wayne's grandparents\n",
    "name = 'Wayne'\n",
    "output = run(0, x, grandparent(x, name))\n",
    "print(\"\\nList of \" + name + \"'s grandparents:\")\n",
    "for item in output:\n",
    "    print(item)"
   ]
  },
  {
   "cell_type": "code",
   "execution_count": null,
   "metadata": {},
   "outputs": [],
   "source": []
  }
 ],
 "metadata": {
  "kernelspec": {
   "display_name": "Python 3",
   "language": "python",
   "name": "python3"
  },
  "language_info": {
   "codemirror_mode": {
    "name": "ipython",
    "version": 3
   },
   "file_extension": ".py",
   "mimetype": "text/x-python",
   "name": "python",
   "nbconvert_exporter": "python",
   "pygments_lexer": "ipython3",
   "version": "3.7.4"
  }
 },
 "nbformat": 4,
 "nbformat_minor": 4
}
