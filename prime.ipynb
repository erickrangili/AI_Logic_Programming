{
 "cells": [
  {
   "cell_type": "code",
   "execution_count": 1,
   "metadata": {},
   "outputs": [
    {
     "ename": "ModuleNotFoundError",
     "evalue": "No module named 'logpy'",
     "output_type": "error",
     "traceback": [
      "\u001b[1;31m---------------------------------------------------------------------------\u001b[0m",
      "\u001b[1;31mModuleNotFoundError\u001b[0m                       Traceback (most recent call last)",
      "\u001b[1;32m<ipython-input-1-89b75dd0cd72>\u001b[0m in \u001b[0;36m<module>\u001b[1;34m\u001b[0m\n\u001b[0;32m      1\u001b[0m \u001b[1;32mimport\u001b[0m \u001b[0mitertools\u001b[0m \u001b[1;32mas\u001b[0m \u001b[0mit\u001b[0m\u001b[1;33m\u001b[0m\u001b[1;33m\u001b[0m\u001b[0m\n\u001b[1;32m----> 2\u001b[1;33m \u001b[1;32mimport\u001b[0m \u001b[0mlogpy\u001b[0m\u001b[1;33m.\u001b[0m\u001b[0mcore\u001b[0m \u001b[1;32mas\u001b[0m \u001b[0mlc\u001b[0m\u001b[1;33m\u001b[0m\u001b[1;33m\u001b[0m\u001b[0m\n\u001b[0m\u001b[0;32m      3\u001b[0m \u001b[1;32mfrom\u001b[0m \u001b[0msympy\u001b[0m\u001b[1;33m.\u001b[0m\u001b[0mntheory\u001b[0m\u001b[1;33m.\u001b[0m\u001b[0mgenerate\u001b[0m \u001b[1;32mimport\u001b[0m \u001b[0mprime\u001b[0m\u001b[1;33m,\u001b[0m \u001b[0misprime\u001b[0m\u001b[1;33m\u001b[0m\u001b[1;33m\u001b[0m\u001b[0m\n",
      "\u001b[1;31mModuleNotFoundError\u001b[0m: No module named 'logpy'"
     ]
    }
   ],
   "source": [
    "import itertools as it\n",
    "import logpy.core as lc\n",
    "from sympy.ntheory.generate import prime, isprime\n",
    "\n",
    "# Check if the elements of x are prime\n",
    "def check_prime(x):\n",
    "    if lc.isvar(x):\n",
    "        return lc.condeseq([(lc.eq, x, p)] for p in map(prime,it.count(1)))\n",
    "    else:\n",
    "        return lc.success if isprime(x) else lc.fail\n",
    "    \n",
    "# Declate the variable\n",
    "x = lc.var()\n",
    "\n",
    "# Check if an element in the list is a prime number\n",
    "list_nums = (23, 4, 27, 17, 13, 10, 21, 29, 3, 32, 11, 19)\n",
    "print('\\nList of primes in the list:')\n",
    "print(set(lc.run(0, x, (lc.membero, x, list_nums), (check_prime, x))))\n",
    "\n",
    "# Print first 7 prime numbers\n",
    "print('\\nList of first 7 prime numbers:')\n",
    "print(lc.run(7, x, check_prime(x)))"
   ]
  },
  {
   "cell_type": "code",
   "execution_count": null,
   "metadata": {},
   "outputs": [],
   "source": []
  }
 ],
 "metadata": {
  "kernelspec": {
   "display_name": "Python 3",
   "language": "python",
   "name": "python3"
  },
  "language_info": {
   "codemirror_mode": {
    "name": "ipython",
    "version": 3
   },
   "file_extension": ".py",
   "mimetype": "text/x-python",
   "name": "python",
   "nbconvert_exporter": "python",
   "pygments_lexer": "ipython3",
   "version": "3.7.4"
  }
 },
 "nbformat": 4,
 "nbformat_minor": 4
}
